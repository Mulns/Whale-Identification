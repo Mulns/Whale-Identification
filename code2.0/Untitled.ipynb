{
 "cells": [
  {
   "cell_type": "code",
   "execution_count": 1,
   "metadata": {},
   "outputs": [],
   "source": [
    "from backbones import Vgg16, resnet50, siamese\n",
    "from data import rgb2ycbcr, ImageDataLabelGenerator\n",
    "from models import CenterLossNet\n",
    "from tensorflow import keras\n",
    "import numpy as np\n",
    "from tqdm import tqdm_notebook\n",
    "from PIL import Image\n",
    "import pickle\n",
    "import os"
   ]
  },
  {
   "cell_type": "code",
   "execution_count": 2,
   "metadata": {},
   "outputs": [],
   "source": [
    "\n",
    "weight_decay = 5e-4\n",
    "H, W, C = (150, 300, 3)\n",
    "nb_classes = 5004\n",
    "lambda_c = 0.2\n",
    "lr = 6e-4\n",
    "feature_size = 512\n",
    "final_active = 'sigmoid'  # for siamese net\n"
   ]
  },
  {
   "cell_type": "code",
   "execution_count": 3,
   "metadata": {},
   "outputs": [],
   "source": [
    "\n",
    "train_data_gen = keras.preprocessing.image.ImageDataGenerator(\n",
    "    samplewise_center=True,\n",
    "    samplewise_std_normalization=True,\n",
    "    zca_whitening=False,\n",
    "    zca_epsilon=1e-6,\n",
    "    rotation_range=16,\n",
    "    width_shift_range=0.2,\n",
    "    height_shift_range=0.1,\n",
    "    zoom_range=0.2,\n",
    "    fill_mode='reflect',\n",
    "    horizontal_flip=True,\n",
    "    vertical_flip=False,\n",
    "    preprocessing_function=rgb2ycbcr,\n",
    "    rescale=1. / 255,\n",
    "    validation_split=0.1)\n",
    "\n",
    "model = CenterLossNet(siamese, \"./trainSpace/\", \"CenterLossNet\").create_model(\n",
    "    _compile=True,\n",
    "    use_weightnorm=False,\n",
    "    database_init=False,\n",
    "    load_weights=True,\n",
    "    weights_path=\"./trainSpace/weights/CenterLossNet.h5\",\n",
    "    lambda_c=lambda_c).get_embedding()\n"
   ]
  },
  {
   "cell_type": "code",
   "execution_count": 33,
   "metadata": {},
   "outputs": [],
   "source": [
    "\n",
    "with open(\"../Dataset/metadata/p2l.pickle\", \"rb\") as f:\n",
    "  p2l = pickle.load(f)\n",
    "with open(\"../Dataset/metadata/tr_l2ps.pickle\", \"rb\") as f:\n",
    "  l2ps = pickle.load(f)\n",
    "\n",
    "def cal_dis(pa, pb):\n",
    "    a = ps.index(pa)\n",
    "    b = ps.index(pb)\n",
    "    dis = np.sqrt(np.sum(np.square(embeds[a]-embeds[b])))\n",
    "    return dis\n"
   ]
  },
  {
   "cell_type": "code",
   "execution_count": 41,
   "metadata": {},
   "outputs": [],
   "source": [
    "ps = [p for p in p2l.keys()]"
   ]
  },
  {
   "cell_type": "code",
   "execution_count": 42,
   "metadata": {},
   "outputs": [
    {
     "name": "stdout",
     "output_type": "stream",
     "text": [
      "15697\n"
     ]
    }
   ],
   "source": [
    "print(len(ps))"
   ]
  },
  {
   "cell_type": "code",
   "execution_count": 7,
   "metadata": {},
   "outputs": [
    {
     "data": {
      "application/vnd.jupyter.widget-view+json": {
       "model_id": "fb7ff103ecc845eaaaa39a5cab0c4663",
       "version_major": 2,
       "version_minor": 0
      },
      "text/html": [
       "<p>Failed to display Jupyter Widget of type <code>HBox</code>.</p>\n",
       "<p>\n",
       "  If you're reading this message in the Jupyter Notebook or JupyterLab Notebook, it may mean\n",
       "  that the widgets JavaScript is still loading. If this message persists, it\n",
       "  likely means that the widgets JavaScript library is either not installed or\n",
       "  not enabled. See the <a href=\"https://ipywidgets.readthedocs.io/en/stable/user_install.html\">Jupyter\n",
       "  Widgets Documentation</a> for setup instructions.\n",
       "</p>\n",
       "<p>\n",
       "  If you're reading this message in another frontend (for example, a static\n",
       "  rendering on GitHub or <a href=\"https://nbviewer.jupyter.org/\">NBViewer</a>),\n",
       "  it may mean that your frontend doesn't currently support widgets.\n",
       "</p>\n"
      ],
      "text/plain": [
       "HBox(children=(IntProgress(value=1, bar_style='info', max=1), HTML(value='')))"
      ]
     },
     "metadata": {},
     "output_type": "display_data"
    },
    {
     "name": "stdout",
     "output_type": "stream",
     "text": [
      "\n",
      "(15697, 512)\n"
     ]
    }
   ],
   "source": [
    "embeds = []\n",
    "batch_size = 1000\n",
    "batch_x = []\n",
    "for i, p in tqdm_notebook(enumerate(ps)):\n",
    "    img = keras.preprocessing.image.load_img(\n",
    "        os.path.join(\"../Dataset/train\", p),\n",
    "        color_mode='rgb',\n",
    "        target_size=(H,W),\n",
    "        interpolation=\"bicubic\")\n",
    "    x = keras.preprocessing.image.img_to_array(\n",
    "        img, data_format=\"channels_last\")\n",
    "    if hasattr(img, 'close'):\n",
    "        img.close()\n",
    "    x = train_data_gen.standardize(x)\n",
    "    batch_x.append(x)\n",
    "    if i%batch_size == 0:\n",
    "        embeds.append(model.predict(np.array(batch_x)))\n",
    "        batch_x = []\n",
    "embeds.append(model.predict(np.array(batch_x)))\n",
    "embeds = np.concatenate(embeds, axis=0)\n",
    "print(embeds.shape)\n"
   ]
  },
  {
   "cell_type": "code",
   "execution_count": 43,
   "metadata": {},
   "outputs": [],
   "source": [
    "#train_embeds = embeds[:15000]\n",
    "train_ps = ps[:15000]\n",
    "#test_embeds = embeds[15000:]\n",
    "test_ps = ps[15000:]"
   ]
  },
  {
   "cell_type": "code",
   "execution_count": null,
   "metadata": {},
   "outputs": [],
   "source": []
  },
  {
   "cell_type": "code",
   "execution_count": 13,
   "metadata": {},
   "outputs": [],
   "source": [
    "with open(\"../Dataset/metadata/test_label.pickle\", 'wb') as f:\n",
    "    label = []\n",
    "    for p in test_ps:\n",
    "        label.append(p2l[p])\n",
    "    pickle.dump(label, f)"
   ]
  },
  {
   "cell_type": "code",
   "execution_count": 9,
   "metadata": {},
   "outputs": [
    {
     "ename": "NameError",
     "evalue": "name 'tqdm_notebook' is not defined",
     "output_type": "error",
     "traceback": [
      "\u001b[0;31m---------------------------------------------------------------------------\u001b[0m",
      "\u001b[0;31mNameError\u001b[0m                                 Traceback (most recent call last)",
      "\u001b[0;32m<ipython-input-9-7a60432eb517>\u001b[0m in \u001b[0;36m<module>\u001b[0;34m()\u001b[0m\n\u001b[1;32m      1\u001b[0m \u001b[0;34m\u001b[0m\u001b[0m\n\u001b[1;32m      2\u001b[0m \u001b[0mmatch\u001b[0m \u001b[0;34m=\u001b[0m \u001b[0;34m{\u001b[0m\u001b[0;34m}\u001b[0m\u001b[0;34m\u001b[0m\u001b[0;34m\u001b[0m\u001b[0m\n\u001b[0;32m----> 3\u001b[0;31m \u001b[0;32mfor\u001b[0m \u001b[0mp\u001b[0m\u001b[0;34m,\u001b[0m \u001b[0ml\u001b[0m \u001b[0;32min\u001b[0m \u001b[0mtqdm_notebook\u001b[0m\u001b[0;34m(\u001b[0m\u001b[0mp2l\u001b[0m\u001b[0;34m.\u001b[0m\u001b[0mitems\u001b[0m\u001b[0;34m(\u001b[0m\u001b[0;34m)\u001b[0m\u001b[0;34m)\u001b[0m\u001b[0;34m:\u001b[0m\u001b[0;34m\u001b[0m\u001b[0;34m\u001b[0m\u001b[0m\n\u001b[0m\u001b[1;32m      4\u001b[0m     \u001b[0;32mif\u001b[0m \u001b[0ml\u001b[0m \u001b[0;32min\u001b[0m \u001b[0ml2ps\u001b[0m\u001b[0;34m.\u001b[0m\u001b[0mkeys\u001b[0m\u001b[0;34m(\u001b[0m\u001b[0;34m)\u001b[0m\u001b[0;34m:\u001b[0m\u001b[0;34m\u001b[0m\u001b[0;34m\u001b[0m\u001b[0m\n\u001b[1;32m      5\u001b[0m         \u001b[0mmatch\u001b[0m\u001b[0;34m[\u001b[0m\u001b[0mp\u001b[0m\u001b[0;34m]\u001b[0m \u001b[0;34m=\u001b[0m \u001b[0ml2ps\u001b[0m\u001b[0;34m[\u001b[0m\u001b[0ml\u001b[0m\u001b[0;34m]\u001b[0m\u001b[0;34m\u001b[0m\u001b[0;34m\u001b[0m\u001b[0m\n",
      "\u001b[0;31mNameError\u001b[0m: name 'tqdm_notebook' is not defined"
     ]
    }
   ],
   "source": [
    "\n",
    "match = {}\n",
    "for p, l in tqdm_notebook(p2l.items()):\n",
    "    if l in l2ps.keys():\n",
    "        match[p] = l2ps[l]\n",
    "unmatch = {}\n",
    "for p, l in tqdm_notebook(p2l.items()):\n",
    "    dis_p = []\n",
    "    for p1, l1 in p2l.items():\n",
    "        if l1 != l:\n",
    "            dis_p.append((p1, cal_dis(p, p1)))\n",
    "    dis_p = sorted(dis_p, key=lambda x:x[1], reverse=False)\n",
    "    dis_p = dis_p[:10]\n",
    "    ps1, _ = zip(*dis_p)\n",
    "    unmatch[p] = ps1\n",
    "\n"
   ]
  },
  {
   "cell_type": "code",
   "execution_count": 29,
   "metadata": {},
   "outputs": [],
   "source": [
    "with open(\"../Dataset/metadata/unmatch.pickle\", 'wb') as f:\n",
    "    pickle.dump(unmatch, f)"
   ]
  },
  {
   "cell_type": "code",
   "execution_count": 30,
   "metadata": {},
   "outputs": [
    {
     "name": "stdout",
     "output_type": "stream",
     "text": [
      "15697\n"
     ]
    }
   ],
   "source": [
    "print(len(unmatch))"
   ]
  },
  {
   "cell_type": "code",
   "execution_count": 37,
   "metadata": {},
   "outputs": [],
   "source": [
    "import pickle\n",
    "import numpy as np\n",
    "from tqdm import tqdm_notebook"
   ]
  },
  {
   "cell_type": "code",
   "execution_count": 38,
   "metadata": {},
   "outputs": [],
   "source": [
    "with open(\"../Dataset/metadata/match.pickle\", 'rb') as f:\n",
    "    match = pickle.load(f)\n",
    "with open(\"../Dataset/metadata/unmatch.pickle\", 'rb') as f:\n",
    "    unmatch = pickle.load(f)\n",
    "with open(\"../Dataset/metadata/test_embed.pickle\", 'rb') as f:\n",
    "    test_embed = pickle.load(f)\n",
    "with open(\"../Dataset/metadata/test_label.pickle\", 'rb') as f:\n",
    "    test_label = pickle.load(f)"
   ]
  },
  {
   "cell_type": "code",
   "execution_count": 46,
   "metadata": {},
   "outputs": [
    {
     "data": {
      "application/vnd.jupyter.widget-view+json": {
       "model_id": "f1a5cd3048394797b72dd7fe66d9948b",
       "version_major": 2,
       "version_minor": 0
      },
      "text/html": [
       "<p>Failed to display Jupyter Widget of type <code>HBox</code>.</p>\n",
       "<p>\n",
       "  If you're reading this message in the Jupyter Notebook or JupyterLab Notebook, it may mean\n",
       "  that the widgets JavaScript is still loading. If this message persists, it\n",
       "  likely means that the widgets JavaScript library is either not installed or\n",
       "  not enabled. See the <a href=\"https://ipywidgets.readthedocs.io/en/stable/user_install.html\">Jupyter\n",
       "  Widgets Documentation</a> for setup instructions.\n",
       "</p>\n",
       "<p>\n",
       "  If you're reading this message in another frontend (for example, a static\n",
       "  rendering on GitHub or <a href=\"https://nbviewer.jupyter.org/\">NBViewer</a>),\n",
       "  it may mean that your frontend doesn't currently support widgets.\n",
       "</p>\n"
      ],
      "text/plain": [
       "HBox(children=(IntProgress(value=1, bar_style='info', max=1), HTML(value='')))"
      ]
     },
     "metadata": {},
     "output_type": "display_data"
    },
    {
     "name": "stdout",
     "output_type": "stream",
     "text": [
      "\n"
     ]
    }
   ],
   "source": [
    "data_pairs = []\n",
    "label_pairs = []\n",
    "for i,p in tqdm_notebook(enumerate(test_ps)):\n",
    "    match_p = p\n",
    "    unmatch_p = np.random.choice(test_ps)\n",
    "    if p in match.keys():\n",
    "        match_ps = match[p]\n",
    "        for mp in match_ps:\n",
    "            if mp in test_ps:\n",
    "                match_p = mp\n",
    "                break\n",
    "    unmatch_ps = unmatch[p]\n",
    "    for ump in unmatch_ps:\n",
    "        if ump in test_ps:\n",
    "            unmatch_p = ump\n",
    "            break\n",
    "    embed = test_embed[test_ps.index(p)]\n",
    "    match_embed = test_embed[test_ps.index(match_p)]\n",
    "    unmatch_embed = test_embed[test_ps.index(unmatch_p)]\n",
    "    data_pairs.append([embed, match_embed])\n",
    "    data_pairs.append([embed, unmatch_embed])\n",
    "    label_pairs.append([test_label[test_ps.index(p)], test_label[test_ps.index(match_p)]])\n",
    "    label_pairs.append([test_label[test_ps.index(p)],test_label[test_ps.index(unmatch_p)]])\n"
   ]
  },
  {
   "cell_type": "code",
   "execution_count": 47,
   "metadata": {},
   "outputs": [
    {
     "name": "stdout",
     "output_type": "stream",
     "text": [
      "1394\n"
     ]
    }
   ],
   "source": [
    "print(len(data_pairs))"
   ]
  },
  {
   "cell_type": "code",
   "execution_count": 51,
   "metadata": {},
   "outputs": [],
   "source": [
    "with open(\"../Dataset/metadata/test_label_pairs.pickle\", 'wb') as f:\n",
    "    pickle.dump(label_pairs, f)"
   ]
  },
  {
   "cell_type": "code",
   "execution_count": null,
   "metadata": {},
   "outputs": [],
   "source": []
  }
 ],
 "metadata": {
  "kernelspec": {
   "display_name": "Python 3",
   "language": "python",
   "name": "python3"
  },
  "language_info": {
   "codemirror_mode": {
    "name": "ipython",
    "version": 3
   },
   "file_extension": ".py",
   "mimetype": "text/x-python",
   "name": "python",
   "nbconvert_exporter": "python",
   "pygments_lexer": "ipython3",
   "version": "3.6.8"
  }
 },
 "nbformat": 4,
 "nbformat_minor": 2
}
